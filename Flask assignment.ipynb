{
 "cells": [
  {
   "cell_type": "code",
   "execution_count": null,
   "id": "54bd9311-ab14-4d4a-9787-d4245e35f567",
   "metadata": {},
   "outputs": [],
   "source": [
    "''' What is a web API ?\n",
    "sol \n",
    "\n",
    "A Web API (Application Programming Interface) is a set of protocols and tools that allow different software applications to communicate with each \n",
    "other over the internet. It provides a standardized way for web-based systems to interact and share data or functionalities, often in a structured \n",
    "format like JSON or XML.'''"
   ]
  },
  {
   "cell_type": "code",
   "execution_count": null,
   "id": "4538f81f-5a05-439b-b989-6333ee6142ec",
   "metadata": {},
   "outputs": [],
   "source": [
    "''' How does a web API differ from a web series ?\n",
    "sol \n",
    "\n",
    "A web API is a tool that allows software applications to communicate and exchange data over the internet, primarily used by developers \n",
    "for integrating services like weather data or payment gateways. In contrast, a web series is an online video entertainment format, \n",
    "consisting of episodic content streamed on platforms like Netflix or YouTube for general audiences. The key difference is that web \n",
    "APIs facilitate software interactions, while web series provide entertainment.'''"
   ]
  },
  {
   "cell_type": "code",
   "execution_count": null,
   "id": "79f84017-fb26-4c72-9ccf-f1010f324048",
   "metadata": {},
   "outputs": [],
   "source": [
    "''' What are the benefits of using WEb APIs in software development ?\n",
    "sol \n",
    "\n",
    "Web APIs enable software developers to integrate external services quickly, promoting reusability and reducing development time. They also enhance scalability \n",
    "by offloading complex tasks like data storage or authentication to specialized external systems, making applications more efficient and flexible.'''"
   ]
  },
  {
   "cell_type": "code",
   "execution_count": null,
   "id": "beb7dbac-8e4f-4324-990a-c2321abf2e0a",
   "metadata": {},
   "outputs": [],
   "source": [
    "''' Explain the difference between SOAP and Restful APIs.\n",
    "sol \n",
    "\n",
    "SOAP is a protocol-based API that uses XML and follows strict standards, making it suitable for complex, enterprise-level applications with built-in \n",
    "security and transaction support. **RESTful APIs**, on the other hand, are lightweight, more flexible, and use standard HTTP methods with formats like \n",
    "JSON, making them ideal for web and mobile applications. SOAP is more rigid, while REST is easier to implement and better for scalability.'''"
   ]
  },
  {
   "cell_type": "code",
   "execution_count": null,
   "id": "a755126c-be41-43bb-9bb2-bb614972b79f",
   "metadata": {},
   "outputs": [],
   "source": [
    "''' what is JSON and how is it commonly usedin web APIs ?\n",
    "sol \n",
    "\n",
    "JSON (JavaScript Object Notation) is a lightweight data-interchange format that is easy for humans to read and write, and easy for machines to parse \n",
    "and generate. It represents data as key-value pairs and arrays, similar to how objects are structured in JavaScript.\n",
    "\n",
    "In web APIs, JSON is commonly used for transmitting data between a server and a client. When an API sends a request or receives a response, the data is \n",
    "often formatted as JSON due to its simplicity and compatibility with many programming languages, making it ideal for web applications and mobile apps.'''"
   ]
  },
  {
   "cell_type": "code",
   "execution_count": null,
   "id": "8708313c-1860-48ba-b438-2cc8070212c3",
   "metadata": {},
   "outputs": [],
   "source": [
    "''' Can you name some popular Web API protocols other than REST ?\n",
    "sol \n",
    "\n",
    "Aside from REST, popular Web API protocols include SOAP, which uses XML for structured data exchange; GraphQL, a query language for requesting specific \n",
    "data; gRPC, a high-performance framework using HTTP/2 and Protocol Buffers; XML-RPC, which encodes calls in XML; and OData, which standardizes queryable \n",
    "RESTful APIs. Each offers unique features suited to different needs and use cases.'''"
   ]
  },
  {
   "cell_type": "code",
   "execution_count": 1,
   "id": "cbd00947-227c-4179-9dbd-45ebae25bb9d",
   "metadata": {},
   "outputs": [
    {
     "data": {
      "text/plain": [
       "' What role do HTTP methods (GET, POST, PUT, DELETE, etc.) play in Web API development ?\\nsol \\n\\nHTTP methods like GET, POST, PUT, and DELETE define the actions that can be performed on resources in Web API development. GET retrieves data from a server, POST creates new resources, PUT updates existing resources, and DELETE removes resources. These methods help structure API requests and responses, making it clear what operations are being requested and ensuring that the API can manage data effectively.'"
      ]
     },
     "execution_count": 1,
     "metadata": {},
     "output_type": "execute_result"
    }
   ],
   "source": [
    "''' What role do HTTP methods (GET, POST, PUT, DELETE, etc.) play in Web API development ?\n",
    "sol \n",
    "\n",
    "HTTP methods like GET, POST, PUT, and DELETE define the actions that can be performed on resources in Web API development. GET retrieves data from a \n",
    "server, POST creates new resources, PUT updates existing resources, and DELETE removes resources. These methods help structure API requests and responses, \n",
    "making it clear what operations are being requested and ensuring that the API can manage data effectively.'''"
   ]
  },
  {
   "cell_type": "code",
   "execution_count": null,
   "id": "a2566f02-5220-46cf-9d53-7abe23950546",
   "metadata": {},
   "outputs": [],
   "source": [
    "''' what is the purpose of authentication and authorization in Web APIs ?\n",
    "sol \n",
    "\n",
    "Authentication confirms the identity of a user or system making a request to a Web API, while authorization determines what actions \n",
    "or resources the authenticated entity is permitted to access. Together, they ensure secure and controlled access to the API, protecting \n",
    "it from unauthorized use and enforcing permissions.'''"
   ]
  },
  {
   "cell_type": "code",
   "execution_count": null,
   "id": "ad3c65ef-2761-454e-9596-d0280e98a9a6",
   "metadata": {},
   "outputs": [],
   "source": [
    "''' How can you handle versioning in Web APi development ?\n",
    "sol \n",
    "\n",
    "Versioning in Web API development is managed by methods such as including the version number in the URL (e.g., /api/v1/resource), \n",
    "using query parameters (e.g., /api/resource?version=1), specifying versions in custom headers (e.g., X-API-Version: 1), or through \n",
    "content negotiation using media types (e.g., Accept: application/vnd.example.v1+json). These approaches help handle updates and \n",
    "maintain compatibility with existing clients.'''"
   ]
  },
  {
   "cell_type": "code",
   "execution_count": null,
   "id": "0a076996-ff37-4c98-8829-066dbeb29b8e",
   "metadata": {},
   "outputs": [],
   "source": [
    "''' What are the main components of an http request and response in the context of web APIs ?\n",
    "sol \n",
    "\n",
    "In Web APIs, an HTTP request consists of a request line (method, URL, HTTP version), headers (metadata), and a body (data sent to the server). \n",
    "An HTTP response includes a status line (HTTP version, status code, message), headers (metadata), and a body (data returned from the server). \n",
    "These components enable effective communication between clients and servers.'''"
   ]
  },
  {
   "cell_type": "code",
   "execution_count": null,
   "id": "44b1411e-4e5d-4e58-89ba-73e2aa525822",
   "metadata": {},
   "outputs": [],
   "source": [
    "''' Describe the concept of rate limiting in the context of Web APIs.\n",
    "sol \n",
    "\n",
    "Rate limiting in web APIs controls the number of requests a client can make within a specified period to prevent abuse, ensure fairness, \n",
    "and manage server load. It involves setting quotas or using algorithms like token buckets or leaky buckets to regulate traffic. When a client \n",
    "exceeds the limit, they may be blocked or throttled until the limit resets. Rate limiting helps maintain API performance and reliability while \n",
    "preventing excessive usage and managing costs.'''"
   ]
  },
  {
   "cell_type": "code",
   "execution_count": null,
   "id": "9a952c71-7dec-437b-a7e8-cb8fe2148930",
   "metadata": {},
   "outputs": [],
   "source": [
    "''' How can you handle errors and exceptions in Web API responses ?\n",
    "sol \n",
    "\n",
    "Handling errors and exceptions in web API responses involves returning appropriate HTTP status codes, providing clear error messages and \n",
    "custom error codes, logging errors for diagnosis, and implementing global exception handling to manage unexpected issues. Additionally, \n",
    "documenting error responses in the API documentation helps clients understand and handle errors effectively.'''"
   ]
  },
  {
   "cell_type": "code",
   "execution_count": null,
   "id": "cb93ee1b-2355-481e-a85e-c5b88939f2f5",
   "metadata": {},
   "outputs": [],
   "source": [
    "''' Explain the concept of statelessness in Restful Web APIs.\n",
    "sol \n",
    "\n",
    "In RESTful web APIs, statelessness means that each request from a client to the server must contain all the information needed to understand \n",
    "and process that request. The server does not store any client context between requests. This means every request is independent and self-contained, \n",
    "allowing for scalability and reliability since the server doesn’t need to manage or remember the client’s state. Statelessness simplifies server \n",
    "design and improves performance by reducing the need for server-side session management.'''"
   ]
  },
  {
   "cell_type": "code",
   "execution_count": null,
   "id": "518edfa7-5e05-40b7-9c48-584f1fc9cadd",
   "metadata": {},
   "outputs": [],
   "source": [
    "''' What are the best practices for designing and documenting Web APIs ?\n",
    "sol \n",
    "\n",
    "When designing and documenting web APIs, follow RESTful principles with clear, consistent naming and versioning. Provide comprehensive documentation \n",
    "with descriptions, examples, and error handling. Implement security measures, optimize performance with pagination and caching, and support interactive \n",
    "testing. These practices ensure your API is intuitive, reliable, and easy for developers to use and integrate.'''"
   ]
  },
  {
   "cell_type": "code",
   "execution_count": null,
   "id": "6ad30cb2-91e9-44e8-85dd-db57061b57fa",
   "metadata": {},
   "outputs": [],
   "source": [
    "''' What role do API keys and tokens play in securing Web APIs ?\n",
    "sol \n",
    "\n",
    "API keys and tokens are essential for securing web APIs by controlling access and authenticating users or applications. API keys are unique \n",
    "identifiers passed with API requests to track and manage usage, often used for simple access control and monitoring. Tokens, especially in \n",
    "token-based authentication methods like OAuth, provide more robust security by representing a user's authentication and authorization \n",
    "credentials. Tokens can be short-lived and can include scopes that specify what actions the client can perform. Both mechanisms help ensure \n",
    "that only authorized users or applications can access the API, and they can also help in tracking and limiting usage.'''"
   ]
  },
  {
   "cell_type": "code",
   "execution_count": null,
   "id": "f427c342-c96c-4ca7-94b1-7871900e7f4f",
   "metadata": {},
   "outputs": [],
   "source": [
    "''' what is REST, and what are its key principles ?\n",
    "sol \n",
    "\n",
    "REST (Representational State Transfer) is an architectural style for designing networked applications, emphasizing a stateless client-server model, \n",
    "a uniform interface, and resource-based interactions. Key principles include stateless communication where each request contains all necessary information, \n",
    "using standard HTTP methods for operations, resource identification via URLs, and supporting multiple representations (e.g., JSON, XML). Additionally, \n",
    "responses should be cacheable to improve performance and scalability.'''"
   ]
  },
  {
   "cell_type": "code",
   "execution_count": null,
   "id": "ec15b68c-39bc-44c5-bb86-4639cf664bba",
   "metadata": {},
   "outputs": [],
   "source": [
    "''' Explain the difference between Restful APIs and traditional web services.\n",
    "sol \n",
    "\n",
    "RESTful APIs use standard HTTP methods and stateless, resource-based interactions with flexible data formats like JSON, offering simplicity and \n",
    "scalability. Traditional web services, often using SOAP, rely on XML-based messaging and strict standards, involving more complexity and stateful \n",
    "interactions. RESTful APIs are typically favored for their ease of use and efficiency in modern applications.'''"
   ]
  },
  {
   "cell_type": "code",
   "execution_count": null,
   "id": "4bdf05d7-51b2-4e0c-98b6-b3fcc5b77788",
   "metadata": {},
   "outputs": [],
   "source": [
    "''' What are the main  HTTP methods used in Restful architecture, and what are their purposes ?\n",
    "sol \n",
    "\n",
    "In RESTful architecture, the main HTTP methods are GET for retrieving data, POST for creating new resources or triggering actions, PUT for \n",
    "updating or creating a resource with new data, PATCH for partially updating a resource, and DELETE for removing a resource. These methods \n",
    "support basic CRUD (Create, Read, Update, Delete) operations.'''"
   ]
  },
  {
   "cell_type": "code",
   "execution_count": null,
   "id": "3b213f3c-e37d-404b-9cc2-0c186ebd2411",
   "metadata": {},
   "outputs": [],
   "source": [
    "''' Describe the concept of statelessness in RESTful APIs.\n",
    "sol \n",
    "\n",
    "In RESTful APIs, statelessness means that each request from a client to the server must contain all the information needed for the server to process \n",
    "the request. The server does not store any client context or session state between requests. This design ensures that each request is independent and \n",
    "self-contained, leading to improved scalability and simplicity as the server does not need to manage or remember previous interactions.'''"
   ]
  },
  {
   "cell_type": "code",
   "execution_count": null,
   "id": "0bb3125a-d3a8-492c-b985-8893a615a3e4",
   "metadata": {},
   "outputs": [],
   "source": [
    "''' What is the significance of URIs (Uniform Resorces Identifiers) in Restful API design ?\n",
    "sol \n",
    "\n",
    "URIs (Uniform Resource Identifiers) are essential in RESTful API design because they uniquely identify and locate resources, ensuring consistent \n",
    "and clear access. They support statelessness by providing a way to interact with resources independently, and their well-structured design aids in \n",
    "scalability and intuitive API use.'''"
   ]
  },
  {
   "cell_type": "code",
   "execution_count": null,
   "id": "5d3fd90d-86e3-4818-b37d-66a3a48cb762",
   "metadata": {},
   "outputs": [],
   "source": [
    "''' Explain the role of hypermedia in Restful APIs. how does it relate to HATEOAS ?\n",
    "sol \n",
    "\n",
    "Hypermedia in RESTful APIs allows clients to navigate and interact with the API dynamically by following links provided in responses. This relates to \n",
    "HATEOAS (Hypermedia As The Engine Of Application State), which enables clients to discover available actions and resources at runtime through these links, \n",
    "rather than relying on hardcoded URLs. This approach enhances flexibility and self-description in API interactions.'''"
   ]
  },
  {
   "cell_type": "code",
   "execution_count": null,
   "id": "80f4b8dc-14fb-4807-84c1-2fd4b245523c",
   "metadata": {},
   "outputs": [],
   "source": [
    "''' What are the benefits of using RESTful APIs over other architectural styles ?\n",
    "sol \n",
    "\n",
    "RESTful APIs offer benefits such as simplicity through standard HTTP methods, scalability with stateless communication, flexibility in supporting multiple \n",
    "data formats, performance improvements via caching, and ease of integration with various applications. Their use of well-understood standards and stateless \n",
    "interactions makes them a popular choice for modern web services.'''"
   ]
  },
  {
   "cell_type": "code",
   "execution_count": null,
   "id": "9a3dfcd1-00d5-4bde-be7d-cf42249bbe6f",
   "metadata": {},
   "outputs": [],
   "source": [
    "''' Discuss the concept of resources representations in RESTful APIs.\n",
    "sol \n",
    "\n",
    "In RESTful APIs, resource representations are the various formats (like JSON, XML, or HTML) in which a resource is conveyed to the client. Clients \n",
    "request resources via URIs, and the server responds with the resource's representation in the preferred format, supporting flexibility and content \n",
    "negotiation. This allows clients to receive data in a format that suits their needs and integrates easily with different systems.'''"
   ]
  },
  {
   "cell_type": "code",
   "execution_count": null,
   "id": "e2d6ff1f-35b7-4f13-b433-906dc2cb8f98",
   "metadata": {},
   "outputs": [],
   "source": [
    "''' how does REST handle communication between clients and servers ?\n",
    "sol\n",
    "\n",
    "REST handles client-server communication using standard HTTP methods—GET, POST, PUT, PATCH, and DELETE—where clients send requests to server URIs, and the server responds \n",
    "with status codes and resource representations. Each request is self-contained as RESTful APIs are stateless, meaning the server does not retain client context between \n",
    "requests. This approach ensures clear and scalable interactions.'''"
   ]
  },
  {
   "cell_type": "code",
   "execution_count": null,
   "id": "7fd294b8-5a20-4c91-96d0-374f79a1e2ef",
   "metadata": {},
   "outputs": [],
   "source": [
    "''' What are the common data formats used in RESTful API communication ?\n",
    "sol \n",
    "\n",
    "Common data formats used in RESTful API communication include JSON for its simplicity and integration ease, XML for its extensibility and support \n",
    "for complex structures, HTML for rendering web content, and YAML for its readability in configuration files. These formats facilitate flexible and \n",
    "effective data exchange between clients and servers.'''"
   ]
  },
  {
   "cell_type": "code",
   "execution_count": null,
   "id": "d02b4d90-19a7-4409-adc8-36c57d231dbf",
   "metadata": {},
   "outputs": [],
   "source": [
    "''' Explain the importance of status codes in Restful API responses.\n",
    "sol \n",
    "\n",
    "Status codes in RESTful API responses are essential for indicating the outcome of a request, helping clients understand whether it was successful, encountered an \n",
    "error, or needs further action. They provide standardized feedback, with codes like 200 OK for success, 400 Bad Request for client errors, and 500 Internal Server \n",
    "Error for server issues, ensuring clear and efficient communication between clients and servers.'''"
   ]
  },
  {
   "cell_type": "code",
   "execution_count": null,
   "id": "30b9e88e-937b-4eeb-b0cd-39a0c37358e7",
   "metadata": {},
   "outputs": [],
   "source": [
    "''' Describe the process of versioning in RESTful API Development.\n",
    "sol \n",
    "\n",
    "Versioning in RESTful API development manages changes while maintaining backward compatibility using methods like embedding the version in the URL \n",
    "path (e.g., /api/v1/resource), including it as a query parameter (e.g., /api/resource?version=1), specifying it in request headers (e.g., Accept-\n",
    "Version: v1), or using media type versioning (e.g., application/vnd.api.v1+json). These approaches ensure that updates to the API do not disrupt \n",
    "existing clients and allow for a smooth transition to new versions.'''"
   ]
  },
  {
   "cell_type": "code",
   "execution_count": null,
   "id": "065aa04e-7cba-46b8-912d-f0141a3fa591",
   "metadata": {},
   "outputs": [],
   "source": [
    "''' How can You ensure Security in RESTful API development ? what are common authentication methods ?\n",
    "sol \n",
    "\n",
    "To ensure security in RESTful API development, use authentication methods like API keys, OAuth, or JWT to verify identities, and implement authorization to \n",
    "control resource access. Encrypt data with HTTPS, validate and sanitize input to prevent attacks, apply rate limiting to avoid abuse, and handle errors carefully \n",
    "to avoid exposing sensitive information. These measures collectively protect your API from unauthorized access and ensure secure communication.'''"
   ]
  },
  {
   "cell_type": "code",
   "execution_count": 1,
   "id": "eabb1c7c-dbb5-4fab-a857-31ac59da5784",
   "metadata": {},
   "outputs": [
    {
     "data": {
      "text/plain": [
       "' What are some best practices for documenting RESTful APIs ?\\nsol \\n\\nBest practices for documenting RESTful APIs include providing clear descriptions of endpoints, using interactive tools like Swagger/OpenAPI for \\ntesting, including sample requests and responses, detailing authentication and authorization methods, documenting versioning and changes, explaining \\nerror handling, maintaining a consistent format, and offering search and navigation features. These practices improve the clarity and usability of the documentation, making it easier for developers to understand and use the API.'"
      ]
     },
     "execution_count": 1,
     "metadata": {},
     "output_type": "execute_result"
    }
   ],
   "source": [
    "''' What are some best practices for documenting RESTful APIs ?\n",
    "sol \n",
    "\n",
    "Best practices for documenting RESTful APIs include providing clear descriptions of endpoints, using interactive tools like Swagger/OpenAPI for \n",
    "testing, including sample requests and responses, detailing authentication and authorization methods, documenting versioning and changes, explaining \n",
    "error handling, maintaining a consistent format, and offering search and navigation features. These practices improve the clarity and usability of the \n",
    "documentation, making it easier for developers to understand and use the API.'''"
   ]
  },
  {
   "cell_type": "code",
   "execution_count": null,
   "id": "64863f59-816e-4056-9b0f-6e472322e8d2",
   "metadata": {},
   "outputs": [],
   "source": [
    "''' What considerations should be made for error handling in RESTful APIs ?\n",
    "sol \n",
    "\n",
    "For effective error handling in RESTful APIs, use standard HTTP status codes to indicate errors, provide clear and detailed error messages, \n",
    "and include custom error codes for additional context. Document error responses comprehensively, avoid exposing sensitive information, and \n",
    "maintain a consistent format for error responses. These practices ensure clear communication of issues and improve the API's robustness and \n",
    "usability.'''"
   ]
  },
  {
   "cell_type": "code",
   "execution_count": null,
   "id": "c14e1c18-1c01-45ff-8f8c-f338257673a0",
   "metadata": {},
   "outputs": [],
   "source": [
    "''' What is SOAP, and how does it differ from REST.\n",
    "sol \n",
    "\n",
    "SOAP (Simple Object Access Protocol) is a protocol for exchanging XML-based messages with strict standards and support for features like security and \n",
    "transactions, while REST (Representational State Transfer) is an architectural style using standard HTTP methods and supporting multiple data formats \n",
    "such as JSON and XML. SOAP is typically more complex and can be stateful, whereas REST is simpler, stateless, and generally faster, making REST a popular \n",
    "choice for web and mobile applications due to its flexibility and efficiency.'''"
   ]
  },
  {
   "cell_type": "code",
   "execution_count": null,
   "id": "764b4383-4115-48ff-a26f-2237151025a7",
   "metadata": {},
   "outputs": [],
   "source": [
    "''' Describe the structure of a SOAP message.\n",
    "sol \n",
    "\n",
    "A SOAP message is structured with three main parts: the Envelope, which defines the start and end of the message, the Header (optional), \n",
    "which includes metadata like security or routing information, and the Body, which contains the main content or data of the request or \n",
    "response. These elements together form a structured XML message for communication between applications.'''"
   ]
  },
  {
   "cell_type": "code",
   "execution_count": null,
   "id": "755bdbc1-bd6a-46ca-bca2-8059257552ec",
   "metadata": {},
   "outputs": [],
   "source": [
    "''' How does SOAP handle communication between clients and servers ?\n",
    "sol \n",
    "\n",
    "SOAP handles client-server communication by sending XML-based request and response messages. The client sends a SOAP request encapsulated in XML over a \n",
    "network (often via HTTP), the server processes the request, performs the required operation, and returns a SOAP response in XML format. This standardized \n",
    "approach ensures reliable communication and supports features like security and transactions.'''"
   ]
  },
  {
   "cell_type": "code",
   "execution_count": null,
   "id": "e42c3f73-a6e3-42fd-b4ed-34e185556e96",
   "metadata": {},
   "outputs": [],
   "source": [
    "''' what are advantages and disadvantages of using SOAP- based web services ?\n",
    "sol \n",
    "\n",
    "SOAP-based web services offer advantages such as strict standards for interoperability, built-in features like security and transactions, and clear service \n",
    "contracts through WSDL. However, they can be complex and performance-heavy due to XML formatting, and are less flexible compared to REST, making them less \n",
    "suitable for simpler or more dynamic applications.'''"
   ]
  },
  {
   "cell_type": "code",
   "execution_count": null,
   "id": "fd7eddf3-27b1-42b7-b6d7-32e7873c9b1b",
   "metadata": {},
   "outputs": [],
   "source": [
    "''' How does SOAP ensure security in web service communication ?\n",
    "sol \n",
    "\n",
    "SOAP ensures security in web service communication through WS-Security, which provides message integrity with digital signatures, message confidentiality \n",
    "through encryption, and authentication and authorization to verify identities and control access. These features collectively safeguard SOAP messages and \n",
    "ensure secure communication.'''"
   ]
  },
  {
   "cell_type": "code",
   "execution_count": null,
   "id": "196647d9-ceb2-4ff6-ba3b-21717be9f66d",
   "metadata": {},
   "outputs": [],
   "source": [
    "''' What is flask, and what makes it different from other web frameworks ?\n",
    "sol \n",
    "\n",
    "Flask is a lightweight Python web framework known for its simplicity and flexibility. Unlike more opinionated frameworks, Flask provides core functionality \n",
    "without enforcing a specific structure or dependencies, allowing developers to add features through extensions as needed. Its minimalist approach and \n",
    "intuitive API make it easy to use for small projects and prototypes while offering flexibility in application design.'''"
   ]
  },
  {
   "cell_type": "code",
   "execution_count": null,
   "id": "f7978944-b3d3-4099-bf2a-e8f281af28ae",
   "metadata": {},
   "outputs": [],
   "source": [
    "''' Describe the basic structure of a flask application.\n",
    "sol \n",
    "\n",
    "The basic structure of a Flask application includes an application instance created with Flask(__name__), routes defined with @app.route() \n",
    "to handle URL requests, views that return responses, templates in the templates directory for rendering HTML, static files in the static \n",
    "directory for assets, and configuration settings. A simple Flask app involves setting up these components to create and run a web application.'''"
   ]
  },
  {
   "cell_type": "code",
   "execution_count": null,
   "id": "2c7c37b7-fd1c-4d7b-82f5-935b14ed8c93",
   "metadata": {},
   "outputs": [],
   "source": [
    "''' How do you install flask on your local machine ?\n",
    "sol \n",
    "\n",
    "To install Flask on your local machine, use pip by running the command pip install Flask in your terminal or command prompt. This will download \n",
    "and install Flask and its dependencies, allowing you to start building and running Flask applications.'''"
   ]
  },
  {
   "cell_type": "code",
   "execution_count": null,
   "id": "b7a3aec2-cd1c-43d2-b43a-cdde75511728",
   "metadata": {},
   "outputs": [],
   "source": [
    "''' Explain the concept of routing in flask.\n",
    "sol '''"
   ]
  },
  {
   "cell_type": "code",
   "execution_count": null,
   "id": "102c30a0-f939-424c-ab65-8973179f9759",
   "metadata": {},
   "outputs": [],
   "source": []
  }
 ],
 "metadata": {
  "kernelspec": {
   "display_name": "Python 3 (ipykernel)",
   "language": "python",
   "name": "python3"
  },
  "language_info": {
   "codemirror_mode": {
    "name": "ipython",
    "version": 3
   },
   "file_extension": ".py",
   "mimetype": "text/x-python",
   "name": "python",
   "nbconvert_exporter": "python",
   "pygments_lexer": "ipython3",
   "version": "3.10.8"
  }
 },
 "nbformat": 4,
 "nbformat_minor": 5
}
